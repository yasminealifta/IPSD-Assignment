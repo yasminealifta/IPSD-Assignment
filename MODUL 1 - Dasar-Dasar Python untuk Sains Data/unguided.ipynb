{
 "cells": [
  {
   "cell_type": "markdown",
   "metadata": {},
   "source": [
    "#### 1.Buatlah program yang dapat menghasilkan pola berbentuk angka seperti di bawah ini, dengan syarat angka yang ditampilkan adalah hasil dari penjumlahan bilangan prima sebelumnya: 1 2 3 5 7 11 13 17 19 23 Jumlah angka pada setiap baris bertambah 1, dan bilangan yang ditampilkan adalah bilangan prima.\n"
   ]
  },
  {
   "cell_type": "code",
   "execution_count": 1,
   "metadata": {},
   "outputs": [
    {
     "name": "stdout",
     "output_type": "stream",
     "text": [
      "2\n",
      "3 5\n",
      "7 11 13\n",
      "17 19 23 29\n"
     ]
    }
   ],
   "source": [
    "def bilanganprima(angka):\n",
    "    if angka < 2:\n",
    "        return False\n",
    "    for i in range(2, int(angka**0.5) + 1):\n",
    "        if angka % i == 0:\n",
    "            return False\n",
    "    return True\n",
    "\n",
    "def polabilangan(baris):\n",
    "    current_prime = 2\n",
    "    primes = []\n",
    "\n",
    "    for i in range(1, baris + 1):\n",
    "        barisbilangan = []\n",
    "        while len(barisbilangan) < i:\n",
    "            if bilanganprima(current_prime):\n",
    "                barisbilangan.append(current_prime)\n",
    "            current_prime += 1\n",
    "        primes.append(barisbilangan)\n",
    "\n",
    "    for barisbilangan in primes:\n",
    "        print(\" \".join(map(str, barisbilangan)))\n",
    "\n",
    "polabilangan(4)\n"
   ]
  },
  {
   "cell_type": "markdown",
   "metadata": {},
   "source": [
    "#### 2. Buatlah sebuah fungsi yang menerima dua input berupa list angka. Fungsi ini harus mengembalikan sebuah list baru yang berisi elemen dari dua list input yang memiliki indeks ganjil. List baru tersebut juga harus diurutkan secara menurun berdasarkan nilai elemen."
   ]
  },
  {
   "cell_type": "code",
   "execution_count": 11,
   "metadata": {},
   "outputs": [
    {
     "name": "stdout",
     "output_type": "stream",
     "text": [
      "[49, 45, 27, 25]\n"
     ]
    }
   ],
   "source": [
    "def gabung_urut_indeks_ganjil(list1, list2):\n",
    "    \n",
    "    angka_ganjil = [list1[i] for i in range(1, len(list1), 2)] + \\\n",
    "                   [list2[i] for i in range(1, len(list2), 2)]\n",
    "    \n",
    "    sorted_list = sorted(angka_ganjil, reverse=True)\n",
    "    \n",
    "    return sorted_list\n",
    "\n",
    "list1 = [15, 25, 35, 45, 55]\n",
    "list2 = [19, 27, 38, 49, 59]\n",
    "\n",
    "hasil = gabung_urut_indeks_ganjil(list1, list2)\n",
    "print(hasil)\n"
   ]
  },
  {
   "cell_type": "markdown",
   "metadata": {},
   "source": [
    "#### 3. Buat sebuah program untuk mensimulasikan transaksi ATM. Program harus: 1. Meminta pengguna memasukkan PIN (dibatasi 3 kali percobaan) 2. Setelah PIN benar, meminta jumlah penarikan. 3. Jika saldo kurang dari jumlah yang ditarik, munculkan pesan kesalahan. 4. Jika penarikan berhasil, tampilkan saldo akhir.\n"
   ]
  },
  {
   "cell_type": "code",
   "execution_count": 22,
   "metadata": {},
   "outputs": [
    {
     "name": "stdout",
     "output_type": "stream",
     "text": [
      "PIN salah. 2 percobaan tersisa.\n",
      "Penarikan berhasil. \n",
      "Anda berhasil menarik Rp 230000. \n",
      "Saldo Anda sekarang: Rp 770000\n"
     ]
    }
   ],
   "source": [
    "def simulasi_atm():\n",
    "    pin_atm = \"87004\" \n",
    "    saldo = 1000000  \n",
    "    percobaan = 0\n",
    "    max_percobaan = 3\n",
    "\n",
    "    while percobaan < max_percobaan:\n",
    "        pin = input(\"Masukkan PIN Anda: \")\n",
    "        if pin == pin_atm:\n",
    "            break\n",
    "        else:\n",
    "            percobaan += 1\n",
    "            print(f\"PIN salah. {max_percobaan - percobaan} percobaan tersisa.\")\n",
    "\n",
    "    if percobaan == max_percobaan:\n",
    "        print(\"Anda telah melebihi batas percobaan PIN. Kartu ATM Anda diblokir.\")\n",
    "        return\n",
    "\n",
    "    while True:\n",
    "        try:\n",
    "            withdrawal_amount = int(input(\"Masukkan jumlah penarikan: \"))\n",
    "            if withdrawal_amount > saldo:\n",
    "                print(\"Saldo tidak mencukupi. Penarikan gagal.\")\n",
    "            else:\n",
    "                saldo -= withdrawal_amount\n",
    "                print(f\"Penarikan berhasil. \\nAnda berhasil menarik Rp {withdrawal_amount} \\nSaldo Anda sekarang: Rp {saldo}\")\n",
    "                break\n",
    "        except ValueError:\n",
    "            print(\"Masukkan jumlah yang valid.\")\n",
    "\n",
    "if __name__ == \"__main__\":\n",
    "    simulasi_atm()"
   ]
  },
  {
   "cell_type": "markdown",
   "metadata": {},
   "source": [
    "#### 4. Anda diberikan file CSV berisi data nilai ujian mahasiswa. Tugas Anda adalah menulis sebuah program yang: 1. Membaca file CSV dan menyimpan datanya ke dalam dictionary. 2. Menghitung rata-rata nilai tiap mahasiswa. 3. Menampilkan mahasiswa dengan nilai tertinggi dan terendah."
   ]
  },
  {
   "cell_type": "code",
   "execution_count": null,
   "metadata": {},
   "outputs": [],
   "source": []
  },
  {
   "cell_type": "markdown",
   "metadata": {},
   "source": [
    "#### 5. Buatlah permainan sederhana menggunakan Python, di mana komputer akan memilih sebuah angka secara acak antara 1 hingga 100, dan pengguna harus menebak angka tersebut. Setiap tebakan yang salah akan memberikan petunjuk apakah angka yang ditebak lebih besar atau lebih kecil dari angka sebenarnya. Batasi jumlah percobaan menjadi 5 kali. Setelah permainan selesai, tampilkan apakah pemain menang atau kalah."
   ]
  },
  {
   "cell_type": "code",
   "execution_count": 2,
   "metadata": {},
   "outputs": [
    {
     "name": "stdout",
     "output_type": "stream",
     "text": [
      "Selamat datang di permainan Tebak Angka!\n",
      "Saya telah memilih sebuah angka antara 1 hingga 100.\n",
      "Anda memiliki 5 kali kesempatan untuk menebaknya.\n"
     ]
    },
    {
     "name": "stdout",
     "output_type": "stream",
     "text": [
      "Tebakanmu terlalu rendah.\n",
      "Sisa percobaan: 4\n",
      "Tebakanmu terlalu rendah.\n",
      "Sisa percobaan: 3\n",
      "Tebakanmu terlalu tinggi.\n",
      "Sisa percobaan: 2\n",
      "Tebakanmu terlalu rendah.\n",
      "Sisa percobaan: 1\n",
      "Tebakanmu terlalu rendah.\n",
      "Sisa percobaan: 0\n",
      "Sorry, kesempatanmu sudah habis:(. Angka yang benar adalah 76.\n"
     ]
    }
   ],
   "source": [
    "import random\n",
    "\n",
    "def tebak_angka():\n",
    "    number_to_guess = random.randint(1, 100)\n",
    "    percobaan = 0\n",
    "    max_percobaan = 5\n",
    "    \n",
    "    print(\"Selamat datang di permainan Tebak Angka!\")\n",
    "    print(\"Saya telah memilih sebuah angka antara 1 hingga 100.\")\n",
    "    print(f\"Kamu punya {max_percobaan} kali kesempatan untuk menebaknya.\")\n",
    "\n",
    "    while percobaan < max_percobaan:\n",
    "        try:\n",
    "            tebakan = int(input(\"Masukkan tebakanmu: \"))\n",
    "            percobaan += 1\n",
    "            \n",
    "            if tebakan < number_to_guess:\n",
    "                print(\"Tebakanmu terlalu rendah.\")\n",
    "            elif tebakan > number_to_guess:\n",
    "                print(\"Tebakanmu terlalu tinggi.\")\n",
    "            else:\n",
    "                print(f\"Yeaayy Selamat! Kamu berhasil menebak angka {number_to_guess} dalam {percobaan} kali percobaan.\")\n",
    "                return\n",
    "        \n",
    "        except ValueError:\n",
    "            print(\"Masukkan angka yang valid.\")\n",
    "            continue\n",
    "        \n",
    "        print(f\"Sisa percobaan: {max_percobaan - percobaan}\")\n",
    "\n",
    "    print(f\"Sorry, kesempatanmu sudah habis:(. Angka yang benar adalah {number_to_guess}.\")\n",
    "\n",
    "if __name__ == \"__main__\":\n",
    "    tebak_angka()\n"
   ]
  },
  {
   "cell_type": "markdown",
   "metadata": {},
   "source": [
    "#### 6. Buat fungsi rekursif yang menerima input bilangan bulat `n` dan menghasilkan urutan bilangan seperti berikut ini: Input: n = 4, Output: 1, 1, 2, 6, 24 Fungsi ini harus menggunakan konsep rekursi untuk menghitung faktorial setiap angka hingga `n`.\n"
   ]
  },
  {
   "cell_type": "code",
   "execution_count": 3,
   "metadata": {},
   "outputs": [
    {
     "name": "stdout",
     "output_type": "stream",
     "text": [
      "[1, 1, 2, 6, 24]\n"
     ]
    }
   ],
   "source": [
    "def faktorial_urut(n):\n",
    "  if n == 0:\n",
    "    return [1] \n",
    "  else:\n",
    "    hasil = faktorial_urut(n - 1)\n",
    "    hasil.append(faktorial(n))\n",
    "    return hasil\n",
    "\n",
    "def faktorial(n):\n",
    "  if n == 0 or n == 1:\n",
    "    return 1\n",
    "  else:\n",
    "    return n * faktorial(n - 1)\n",
    "\n",
    "n = 4\n",
    "hasil = faktorial_urut(n)\n",
    "print(hasil) "
   ]
  },
  {
   "cell_type": "markdown",
   "metadata": {},
   "source": [
    "#### 7. Buatlah program untuk memecahkan masalah \"minimum coin change\". Diberikan jumlah uang dan daftar nilai koin yang tersedia (misalnya, 1, 5, 10, 25), tentukan kombinasi minimum koin yang diperlukan untuk mencapai jumlah uang tersebut. Namun, program Anda harus bisa menangani koin-koin yang nilai dan jumlahnya ditentukan pengguna."
   ]
  },
  {
   "cell_type": "code",
   "execution_count": 9,
   "metadata": {},
   "outputs": [
    {
     "name": "stdout",
     "output_type": "stream",
     "text": [
      "Jumlah minimum koin yang diperlukan: 5\n",
      "Koin yang digunakan: [55, 55, 55, 55, 25]\n"
     ]
    }
   ],
   "source": [
    "def koin_minimum(nilai_koin, jumlah):\n",
    "    nilai_koin.sort(reverse=True)\n",
    "    \n",
    "    hasil = []\n",
    "    for koin in nilai_koin:\n",
    "        while jumlah >= koin:\n",
    "            jumlah -= koin\n",
    "            hasil.append(koin)\n",
    "    \n",
    "    if jumlah != 0:\n",
    "        return None\n",
    "    \n",
    "    return hasil\n",
    "\n",
    "if __name__ == \"__main__\":\n",
    "    koin = [10, 25, 40, 55]\n",
    "    \n",
    "    jumlah = int(input(\"Masukkan jumlah uang: \"))\n",
    "    \n",
    "    solusi = koin_minimum(koin, jumlah)\n",
    "    \n",
    "    if solusi:\n",
    "        print(\"Jumlah minimum koin yang diperlukan:\", len(solusi))\n",
    "        print(\"Koin yang digunakan:\", solusi)\n",
    "    else:\n",
    "        print(\"Tidak ada solusi dengan denominasi koin yang tersedia.\")\n"
   ]
  },
  {
   "cell_type": "markdown",
   "metadata": {},
   "source": [
    "#### 8. Buat sebuah program yang menerima string dari pengguna dan mengonversi string tersebut menjadi sebuah list berisi kata-kata terbalik. Misalnya: Input: \"Saya suka Python\", Output: [\"ayaS\", \"akus\", \"nohtyP\"]\n"
   ]
  },
  {
   "cell_type": "code",
   "execution_count": 5,
   "metadata": {},
   "outputs": [
    {
     "name": "stdout",
     "output_type": "stream",
     "text": [
      "['ukuB', 'uti', 'kilim', 'ayas']\n"
     ]
    }
   ],
   "source": [
    "def balik_kata(kalimat):\n",
    "  kata_terbalik = []\n",
    "  kata = \"\"\n",
    "  for karakter in kalimat:\n",
    "    if karakter != \" \":\n",
    "      kata += karakter\n",
    "    else:\n",
    "      kata_terbalik.append(kata[::-1])\n",
    "      kata = \"\"\n",
    "  if kata:\n",
    "    kata_terbalik.append(kata[::-1])\n",
    "  return kata_terbalik\n",
    "\n",
    "kalimat = input(\"Masukkan kalimat: \")\n",
    "\n",
    "hasil = balik_kata(kalimat)\n",
    "print(hasil)"
   ]
  },
  {
   "cell_type": "markdown",
   "metadata": {},
   "source": [
    "#### 9. Buat class bernama `Buku` yang memiliki atribut `judul`, `penulis`, dan `tahun_terbit`. Buat method dalam class untuk menampilkan informasi buku, serta method untuk menghitung usia buku berdasarkan tahun saat ini. Buatlah 3 objek dari class `Buku` dan tampilkan informasi serta usia masing-masing buku."
   ]
  },
  {
   "cell_type": "code",
   "execution_count": 12,
   "metadata": {},
   "outputs": [
    {
     "name": "stdout",
     "output_type": "stream",
     "text": [
      "Judul: Laskar Pelangi\n",
      "Penulis: Andrea Hirata\n",
      "Tahun Terbit: 2005\n",
      "Usia buku: 19 tahun\n",
      "-------------------------\n",
      "Judul: Laut Bercerita\n",
      "Penulis: Leila S. Chudori\n",
      "Tahun Terbit: 2017\n",
      "Usia buku: 7 tahun\n",
      "-------------------------\n",
      "Judul: Hujan\n",
      "Penulis: Tere Liye\n",
      "Tahun Terbit: 2016\n",
      "Usia buku: 8 tahun\n"
     ]
    }
   ],
   "source": [
    "class Buku:\n",
    "    def __init__(self, judul, penulis, tahun_terbit):\n",
    "        self.judul = judul\n",
    "        self.penulis = penulis\n",
    "        self.tahun_terbit = tahun_terbit\n",
    "\n",
    "    def tampilkan_info(self):\n",
    "        print(f\"Judul: {self.judul}\")\n",
    "        print(f\"Penulis: {self.penulis}\")\n",
    "        print(f\"Tahun Terbit: {self.tahun_terbit}\")\n",
    "\n",
    "    def hitung_usia(self):\n",
    "        import datetime\n",
    "        tahun_sekarang = datetime.datetime.now().year\n",
    "        usia_buku = tahun_sekarang - self.tahun_terbit\n",
    "        print(f\"Usia buku: {usia_buku} tahun\")\n",
    "\n",
    "buku1 = Buku(\"Laskar Pelangi\", \"Andrea Hirata\", 2005)\n",
    "buku2 = Buku(\"Laut Bercerita\", \"Leila S. Chudori\", 2017)\n",
    "buku3 = Buku(\"Hujan\", \"Tere Liye\", 2016)\n",
    "\n",
    "buku1.tampilkan_info()\n",
    "buku1.hitung_usia()\n",
    "print(\"-\" * 25)\n",
    "buku2.tampilkan_info()\n",
    "buku2.hitung_usia()\n",
    "print(\"-\" * 25)\n",
    "buku3.tampilkan_info()\n",
    "buku3.hitung_usia()"
   ]
  },
  {
   "cell_type": "markdown",
   "metadata": {},
   "source": [
    "#### 10. Buatlah program yang mengimplementasikan algoritma pencarian biner, namun dengan modifikasi: algoritma harus bisa mencari nilai di list yang hanya berisi angka genap, dan jika nilai yang dicari adalah angka ganjil, program harus menampilkan pesan bahwa nilai tersebut tidak bisa ditemukan."
   ]
  },
  {
   "cell_type": "code",
   "execution_count": 17,
   "metadata": {},
   "outputs": [
    {
     "name": "stdout",
     "output_type": "stream",
     "text": [
      "Nilai ditemukan di indeks ke- 7\n"
     ]
    }
   ],
   "source": [
    "arr = [2, 4, 6, 8, 10, 12, 14, 16, 18, 20, 22, 24, 26, 28, 30]\n",
    "\n",
    "def binary_search(arr, x):\n",
    "  if x % 2 != 0:\n",
    "    return \"Nilai yang dicari tidak ada dalam list karena ganjil.\"\n",
    "\n",
    "  left = 0\n",
    "  right = len(arr) - 1\n",
    "\n",
    "  while left <= right:\n",
    "    mid = (left + right) // 2\n",
    "\n",
    "    if arr[mid] == x:\n",
    "      return mid\n",
    "    elif arr[mid] < x:\n",
    "      left = mid + 1\n",
    "    else:\n",
    "      right = mid - 1\n",
    "\n",
    "  return -1\n",
    "\n",
    "x = int(input(\"Masukkan angka genap yang ingin dicari: \"))\n",
    "\n",
    "hasil = binary_search(arr, x)\n",
    "\n",
    "if isinstance(hasil, str):\n",
    "  print(hasil)\n",
    "elif hasil != -1:\n",
    "  print(\"Nilai ditemukan di indeks ke-\", hasil)\n",
    "else:\n",
    "  print(\"Nilai tidak ditemukan.\")"
   ]
  }
 ],
 "metadata": {
  "kernelspec": {
   "display_name": "base",
   "language": "python",
   "name": "python3"
  },
  "language_info": {
   "codemirror_mode": {
    "name": "ipython",
    "version": 3
   },
   "file_extension": ".py",
   "mimetype": "text/x-python",
   "name": "python",
   "nbconvert_exporter": "python",
   "pygments_lexer": "ipython3",
   "version": "3.11.5"
  }
 },
 "nbformat": 4,
 "nbformat_minor": 2
}
