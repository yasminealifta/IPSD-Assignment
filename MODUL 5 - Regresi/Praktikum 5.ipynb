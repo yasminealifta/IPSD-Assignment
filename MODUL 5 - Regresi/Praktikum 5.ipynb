{
  "nbformat": 4,
  "nbformat_minor": 0,
  "metadata": {
    "colab": {
      "provenance": []
    },
    "kernelspec": {
      "name": "python3",
      "display_name": "Python 3"
    },
    "language_info": {
      "name": "python"
    }
  },
  "cells": [
    {
      "cell_type": "markdown",
      "source": [
        "## Nama : Yasmine Alifta\n",
        "## NIM : 2311110044"
      ],
      "metadata": {
        "id": "wKBAh7kAJaiM"
      }
    },
    {
      "cell_type": "markdown",
      "source": [
        "# Algoritma Regresi pada Python"
      ],
      "metadata": {
        "id": "U2gd39akEzfX"
      }
    },
    {
      "cell_type": "markdown",
      "source": [
        "jenis machine learning:\n",
        "\n",
        "1. supervised learning =\n",
        "2. Unsupervised learning = jenis ML yg tdk mempunyai kelas/tabel pd dataset nya, hanya memiliki variabel x tdk memiliki y\n",
        "3. reinforcement learning = metode ML yg cara mendapatkan hasilnya berasal dr apa yg dihasilkan dr lingkungan melalui agen\n",
        "\n",
        "teknik di ML:\n",
        "1. teknik regularisasi, berfungsi sbg syarat utk menghindari overfitting\n",
        "\n",
        "- regresi = memprediksi ssuatu nilai bedasarkan garis\n",
        "- cost function = error tiap value\n",
        "- loss function = total dari semua error value\n",
        "- mengukur error bisa dengan = MSE, R^2, MAE\n",
        "* pada R^2 semaakin mendekati 1 semakin bagus\n",
        "- uji normalitas\n",
        "- uji asumsi klasik = mengetes apakah ada masalah linearitas\n",
        "- uji heterosidasitas\n",
        "- uji auto korelasi\n",
        "\n"
      ],
      "metadata": {
        "id": "nzdgpwN8FPP-"
      }
    },
    {
      "cell_type": "code",
      "execution_count": null,
      "metadata": {
        "id": "Zi5dHFxhA6Pp"
      },
      "outputs": [],
      "source": [
        "from sklearn.datasets import load_diabetes # load dataset diabetes yang sudah disediakan dari sklearn\n",
        "from sklearn.linear_model import LinearRegression, Lasso, Ridge # mengimpor model regresi untuk variasi regresi regularisasi\n",
        "from sklearn.model_selection import train_test_split # mengimpor fungsi untuk membagi data menjadi data train dan data test\n",
        "from sklearn.metrics import mean_squared_error, r2_score # mengimpor metrik untuk mengevaluasi performa model"
      ]
    },
    {
      "cell_type": "code",
      "source": [
        "x, y = load_diabetes(return_X_y=True) # load data set diabetes ke dalam variable x sebagai feature dan y sebagai target dan akan hanya mengembalikan feature dan target sebagai array"
      ],
      "metadata": {
        "id": "6Ore4nMdOrkx"
      },
      "execution_count": null,
      "outputs": []
    },
    {
      "cell_type": "code",
      "source": [
        "lr = LinearRegression() # mendefinisikan model regresi linear dan disimpan ke variabel lr"
      ],
      "metadata": {
        "id": "croa8c8ZPMuB"
      },
      "execution_count": null,
      "outputs": []
    },
    {
      "cell_type": "code",
      "source": [
        "load_diabetes()['feature_names'] # menampilkan 10 data feature, yaitu 10 variabel yang mempengaruhi target"
      ],
      "metadata": {
        "colab": {
          "base_uri": "https://localhost:8080/"
        },
        "id": "Dd8-76pQP8Yk",
        "outputId": "9e152f3b-9a68-4428-944b-bad55cf6731d"
      },
      "execution_count": null,
      "outputs": [
        {
          "output_type": "execute_result",
          "data": {
            "text/plain": [
              "['age', 'sex', 'bmi', 'bp', 's1', 's2', 's3', 's4', 's5', 's6']"
            ]
          },
          "metadata": {},
          "execution_count": 4
        }
      ]
    },
    {
      "cell_type": "code",
      "source": [
        "len(load_diabetes()['feature_names']) # menampilkan jumlah total feature yang ada di dataset diabetes, yaitu ada 10 variabel"
      ],
      "metadata": {
        "colab": {
          "base_uri": "https://localhost:8080/"
        },
        "id": "31y6nsLEPv_K",
        "outputId": "60b94030-b36f-4b30-e691-06d0c6c1a33a"
      },
      "execution_count": null,
      "outputs": [
        {
          "output_type": "execute_result",
          "data": {
            "text/plain": [
              "10"
            ]
          },
          "metadata": {},
          "execution_count": 5
        }
      ]
    },
    {
      "cell_type": "code",
      "source": [
        "lr.fit(x, y) # melatih model dengan semua data\n",
        "y_pred = lr.predict(x) # membuat dan menghasilkan prediksi untuk data x yang disimpan di variabel y_pred"
      ],
      "metadata": {
        "id": "dhqFVYwlPSTb"
      },
      "execution_count": null,
      "outputs": []
    },
    {
      "cell_type": "code",
      "source": [
        "print(r2_score(y, y_pred)) # menghitung dan menampilkan nilai r2 untuk mengevaluasi seberapa baik model regresi linear dan menjelasskan variabilitas dalam data"
      ],
      "metadata": {
        "colab": {
          "base_uri": "https://localhost:8080/"
        },
        "id": "DKvzweiJPZsx",
        "outputId": "8c04e8b2-c2dc-4c59-cb01-e38bfe3633ad"
      },
      "execution_count": null,
      "outputs": [
        {
          "output_type": "stream",
          "name": "stdout",
          "text": [
            "0.5177484222203499\n"
          ]
        }
      ]
    },
    {
      "cell_type": "markdown",
      "source": [
        "hasil R2 score menunjukkan bahwa model dapat menjelaskan sekitar 51.77% variabilitas dalam data target diabetes. Hasil tersebut menujukkan performa yang cukup moderat (tidak terlalu baik, tidak terlalu buruk) dan memiliki ruang untuk peningkatan model."
      ],
      "metadata": {
        "id": "fzcPPe5EJ35s"
      }
    },
    {
      "cell_type": "code",
      "source": [
        "print(mean_squared_error(y, y_pred)) # menghitung dan menampilkan nillai MSE untk mrngevaluasi rata-rata error kuadrat antara nilai aktual dan prediksi"
      ],
      "metadata": {
        "colab": {
          "base_uri": "https://localhost:8080/"
        },
        "id": "oy2uICzCPkLP",
        "outputId": "f03dcf99-bc8d-42d6-96e3-d5e7f21538bd"
      },
      "execution_count": null,
      "outputs": [
        {
          "output_type": "stream",
          "name": "stdout",
          "text": [
            "2859.69634758675\n"
          ]
        }
      ]
    },
    {
      "cell_type": "markdown",
      "source": [
        "nilai MSE nya sebesar 2859.69 yang menunjukkan rata-rata kuadrat error prediksi dan nilai aktual. Nilai MSE tersebut cukup besar, sehingga mengindikasikan ada deviasi yang signifikan dalam prediksi."
      ],
      "metadata": {
        "id": "1GDX8j-XNqdx"
      }
    },
    {
      "cell_type": "code",
      "source": [
        "from sklearn.model_selection import train_test_split\n",
        "x_train, x_test, y_train, y_test = train_test_split(x, y, test_size=0.2, random_state = 42) # membagi dataset menjadi data train dan data test"
      ],
      "metadata": {
        "id": "-va_-xm1Pn-f"
      },
      "execution_count": null,
      "outputs": []
    },
    {
      "cell_type": "code",
      "source": [
        "lr = LinearRegression() # membuat model regresi linear\n",
        "lr.fit(x_train, y_train) # melatih model menggunakan data train\n",
        "y_pred = lr.predict(x_test) # memprediksi nilai target pada data uji\n",
        "print(r2_score(y_test, y_pred)) # menghitung dan menampilkan hasil r2 score\n",
        "print(mean_squared_error(y_test, y_pred)) # menghitung dan menampilkan hasil MSE"
      ],
      "metadata": {
        "colab": {
          "base_uri": "https://localhost:8080/"
        },
        "id": "FDufv_vqR9CK",
        "outputId": "d03de18b-735c-42ca-ffc7-acf297d77f37"
      },
      "execution_count": null,
      "outputs": [
        {
          "output_type": "stream",
          "name": "stdout",
          "text": [
            "0.4526027629719195\n",
            "2900.193628493482\n"
          ]
        }
      ]
    },
    {
      "cell_type": "markdown",
      "source": [
        "setelah dilakukan split data, nilai R2 score menurun menjadi 45.25% pada data test yang menunjukkan model memiliki kemampuan generalisasi lebih rendah pada data baru.\n",
        "\n",
        "Sedangkan pada nilai MSE sedikit mengalami peningkatan menjadi 2900.19 yang mengindikasikan error prediksi yang lebih besar pada data test, sehingga model kurang akurat pada data yang belum pernah dilihat."
      ],
      "metadata": {
        "id": "lV0Pv3mWODGq"
      }
    }
  ]
}